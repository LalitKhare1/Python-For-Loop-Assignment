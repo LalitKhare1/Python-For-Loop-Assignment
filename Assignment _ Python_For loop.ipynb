{
 "cells": [
  {
   "cell_type": "markdown",
   "id": "62a92213-9910-49ae-b7f8-d00aad2ebe3e",
   "metadata": {},
   "source": [
    "# Basic Level:"
   ]
  },
  {
   "cell_type": "markdown",
   "id": "9e5fc96f-a444-4349-91e8-7dd8ef451fa5",
   "metadata": {},
   "source": [
    "### 1. Write a Python program to print the numbers from 1 to 10 using a `for` loop."
   ]
  },
  {
   "cell_type": "code",
   "execution_count": 1,
   "id": "1b12c8e2-b1e1-4a8b-8044-c2fa5f56838a",
   "metadata": {},
   "outputs": [
    {
     "name": "stdin",
     "output_type": "stream",
     "text": [
      "Enter the lower range : 1\n",
      "Enter the upper range : 10\n"
     ]
    },
    {
     "name": "stdout",
     "output_type": "stream",
     "text": [
      "1\n",
      "2\n",
      "3\n",
      "4\n",
      "5\n",
      "6\n",
      "7\n",
      "8\n",
      "9\n",
      "10\n"
     ]
    }
   ],
   "source": [
    "def print_num() :                            #creating a function to print numbers in a given range from l to u.\n",
    "    l = int(input(\"Enter the lower range :\"))\n",
    "    u = int(input(\"Enter the upper range :\"))\n",
    "    \n",
    "    for i in range(l,u+1) :                   #calling the for loop in user's given range.\n",
    "        print(i)\n",
    "\n",
    "print_num()                                   #calling the function to get desired output."
   ]
  },
  {
   "cell_type": "markdown",
   "id": "7af9ba14-584a-49cf-aa86-e89d9b75a035",
   "metadata": {},
   "source": [
    "### 2. Create a program that calculates the sum of all numbers in a list using a `for` loop."
   ]
  },
  {
   "cell_type": "code",
   "execution_count": 2,
   "id": "981e3f18-5219-44ea-a19f-6ef92b65000e",
   "metadata": {},
   "outputs": [
    {
     "name": "stdout",
     "output_type": "stream",
     "text": [
      "Sum of all the elements of the list is 28\n"
     ]
    }
   ],
   "source": [
    "def list_elements_sum(listt) :               #created a function which will return the sum of all the elements of the list.\n",
    "    sum_l = 0\n",
    "    for i in listt :\n",
    "        sum_l += i\n",
    "    return sum_l                              \n",
    "\n",
    "list1 = [1,2,3,4,5,6,7]\n",
    "print(f\"Sum of all the elements of the list is {list_elements_sum(list1)}\")"
   ]
  },
  {
   "cell_type": "markdown",
   "id": "3092b6d4-f43c-45fd-ac2b-892ec1528765",
   "metadata": {},
   "source": [
    "### 3. Write a program to print the characters of a string in reverse order using a `for` loop."
   ]
  },
  {
   "cell_type": "code",
   "execution_count": 11,
   "id": "8fb57029-6c32-4abf-8c78-bb0f707d4a47",
   "metadata": {},
   "outputs": [
    {
     "name": "stdin",
     "output_type": "stream",
     "text": [
      "Enter the string : string\n"
     ]
    },
    {
     "name": "stdout",
     "output_type": "stream",
     "text": [
      "g\n",
      "n\n",
      "i\n",
      "r\n",
      "t\n",
      "s\n"
     ]
    }
   ],
   "source": [
    "str1 = input(\"Enter the string :\")\n",
    "\n",
    "for i in range(-1,-(len(str1)+1),-1) :  #calling the for loop from index value -1 to the last negative index value which is equal to the lenght of the string.\n",
    "    print(str1[i])"
   ]
  },
  {
   "cell_type": "markdown",
   "id": "abcadbf8-686d-473a-b86b-007e01166727",
   "metadata": {},
   "source": [
    "### 4. Develop a program that finds the factorial of a given number using a `for` loop."
   ]
  },
  {
   "cell_type": "code",
   "execution_count": 16,
   "id": "20d30d33-3f4c-4fc4-8d9a-634ea6c6366a",
   "metadata": {},
   "outputs": [
    {
     "name": "stdin",
     "output_type": "stream",
     "text": [
      "Enter the number for which you wanna get factorial : -2\n"
     ]
    },
    {
     "name": "stdout",
     "output_type": "stream",
     "text": [
      "Please enter a positive integer or zero\n"
     ]
    }
   ],
   "source": [
    "def factorial_num(n) :            #creating a function which returns the factorial of a given number.\n",
    "    \n",
    "    factorial = 1\n",
    "    \n",
    "    if n == 0 :\n",
    "        return factorial\n",
    "    else :\n",
    "        for i in range(n,0,-1) :\n",
    "            factorial *= i\n",
    "    return factorial\n",
    "\n",
    "num1 = int(input(\"Enter the number for which you wanna get factorial :\"))\n",
    "\n",
    "if num1 < 0 :\n",
    "    print(\"Please enter a positive integer or zero.\")\n",
    "else :\n",
    "    print(f\"Factorial of {num1} is : {factorial_num(num1)}\")"
   ]
  },
  {
   "cell_type": "markdown",
   "id": "6cbebee9-b163-438f-a31b-4d00a391906c",
   "metadata": {},
   "source": [
    "### 5. Create a program to print the multiplication table of a given number using a `for` loop."
   ]
  },
  {
   "cell_type": "code",
   "execution_count": 18,
   "id": "3f479176-2fbc-4bfa-aeed-4289329d3542",
   "metadata": {},
   "outputs": [
    {
     "name": "stdin",
     "output_type": "stream",
     "text": [
      "Enter the number for which you wanna get Multiplication Table : 2\n"
     ]
    },
    {
     "name": "stdout",
     "output_type": "stream",
     "text": [
      "Multiplication Table of 2 is :\n",
      "2 x 1 = 2\n",
      "2 x 2 = 4\n",
      "2 x 3 = 6\n",
      "2 x 4 = 8\n",
      "2 x 5 = 10\n",
      "2 x 6 = 12\n",
      "2 x 7 = 14\n",
      "2 x 8 = 16\n",
      "2 x 9 = 18\n",
      "2 x 10 = 20\n"
     ]
    }
   ],
   "source": [
    "def multiplication_table() :                #creating a funtion to calculate Multiplication Table of a given number.\n",
    "    num2 = int(input(\"Enter the number for which you wanna get Multiplication Table :\"))\n",
    "    print(f\"Multiplication Table of {num2} is :\")\n",
    "    \n",
    "    for i in range(1,11) :\n",
    "        print(f\"{num2} x {i} = {num2*i}\")\n",
    "\n",
    "multiplication_table()"
   ]
  },
  {
   "cell_type": "markdown",
   "id": "04f82d40-9b46-4154-8d19-48a35442552e",
   "metadata": {},
   "source": [
    "### 6. Write a program that counts the number of even and odd numbers in a list using a `for` loop."
   ]
  },
  {
   "cell_type": "code",
   "execution_count": 22,
   "id": "afd4f1a4-cb66-4eee-8099-016ff1bfd055",
   "metadata": {},
   "outputs": [
    {
     "name": "stdin",
     "output_type": "stream",
     "text": [
      "Enter the integer elements of the list 1 2 3 4 5 6 7 8\n"
     ]
    },
    {
     "name": "stdout",
     "output_type": "stream",
     "text": [
      "Even Numbers in your list are 4\n",
      "Odd Numbers in your list are 4\n"
     ]
    }
   ],
   "source": [
    "list2 = list(map(int,input(\"Enter the integer elements of the list\").split()))\n",
    "even_count = 0\n",
    "odd_count = 0\n",
    "\n",
    "for i in list2 :\n",
    "    if i%2 == 0 :\n",
    "        even_count += 1\n",
    "    else :\n",
    "        odd_count += 1\n",
    "print(f\"Even Numbers in your list are {even_count}\")\n",
    "print(\"Odd Numbers in your list are\",odd_count)"
   ]
  },
  {
   "cell_type": "markdown",
   "id": "1af1c507-d79d-4f9c-9090-25f3bfca4416",
   "metadata": {},
   "source": [
    "### 7. Develop a program that prints the squares of numbers from 1 to 5 using a `for` loop."
   ]
  },
  {
   "cell_type": "code",
   "execution_count": 23,
   "id": "a8583f39-7eeb-4072-921b-416e646f8fa0",
   "metadata": {},
   "outputs": [
    {
     "name": "stdin",
     "output_type": "stream",
     "text": [
      "Enter the lower limit : 1\n",
      "Enter the upper limit : 5\n"
     ]
    },
    {
     "name": "stdout",
     "output_type": "stream",
     "text": [
      "Square of 1 = 1\n",
      "Square of 2 = 4\n",
      "Square of 3 = 9\n",
      "Square of 4 = 16\n",
      "Square of 5 = 25\n"
     ]
    }
   ],
   "source": [
    "def num_square() :                       #creating a function to calculate sqaures of numbers within the range given by user.\n",
    "    l2 = int(input(\"Enter the lower limit :\"))\n",
    "    u2 = int(input(\"Enter the upper limit :\"))\n",
    "     \n",
    "    for i in range(l2,u2+1) :              #calling for loop from lower to upper range given by user. \n",
    "        print(\"Square of\",i,\"=\",i*i)\n",
    "\n",
    "num_square()                                #calling the function."
   ]
  },
  {
   "cell_type": "markdown",
   "id": "9cf69c16-4d71-4f54-9521-ab98e3d0875e",
   "metadata": {},
   "source": [
    "### 8. Create a program to find the length of a string without using the `len()` function."
   ]
  },
  {
   "cell_type": "code",
   "execution_count": 26,
   "id": "41a36d3f-f519-4153-9c31-078385a36f78",
   "metadata": {},
   "outputs": [
    {
     "name": "stdin",
     "output_type": "stream",
     "text": [
      "Enter the string : hello baccho\n"
     ]
    },
    {
     "name": "stdout",
     "output_type": "stream",
     "text": [
      "Length of the string is : 12\n"
     ]
    }
   ],
   "source": [
    "str2 = input(\"Enter the string :\")\n",
    "len_str2 = 0\n",
    "\n",
    "for i in str2 :                #Calling the for loop for the whole elements of the strign one by one.\n",
    "    len_str2 += 1\n",
    "print(\"Length of the string is :\",len_str2)"
   ]
  },
  {
   "cell_type": "markdown",
   "id": "13e13bea-eb04-4c7a-9c27-d573bfd54bc0",
   "metadata": {},
   "source": [
    "### 9. Write a program that calculates the average of a list of numbers using a `for` loop."
   ]
  },
  {
   "cell_type": "code",
   "execution_count": 32,
   "id": "304bc540-c297-467d-8e2f-07fb6d2d9cd6",
   "metadata": {},
   "outputs": [
    {
     "name": "stdin",
     "output_type": "stream",
     "text": [
      "Enter the elements of the list : 1 2 3 4 5 0\n"
     ]
    },
    {
     "name": "stdout",
     "output_type": "stream",
     "text": [
      "Average of the elements of the list is : 2.5\n"
     ]
    }
   ],
   "source": [
    "list3 = list(map(int, input(\"Enter the elements of the list :\").split())) #creating list by user input.\n",
    "sum_list3 = 0\n",
    "len_list3 = len(list3)\n",
    "\n",
    "for i in list3 :                     #calling for loop for every element in list eneterd by user.\n",
    "    sum_list3 += i                   #calculaitng the sum of elements of the list.\n",
    "    \n",
    "average_list3 = sum_list3 / len_list3\n",
    "print(\"Average of the elements of the list is :\",average_list3)"
   ]
  },
  {
   "cell_type": "markdown",
   "id": "51327337-baff-4635-a0f6-b31395b4f92b",
   "metadata": {},
   "source": [
    "### 10. Develop a program that prints the first `n` Fibonacci numbers using a `for` loop."
   ]
  },
  {
   "cell_type": "code",
   "execution_count": 36,
   "id": "496d6b9c-1bb8-45e1-b652-3509057e0bde",
   "metadata": {},
   "outputs": [
    {
     "name": "stdin",
     "output_type": "stream",
     "text": [
      "Enter how many Fibonacci numbers you wanna get : 8\n"
     ]
    },
    {
     "name": "stdout",
     "output_type": "stream",
     "text": [
      "0\n",
      "1\n",
      "1\n",
      "2\n",
      "3\n",
      "5\n",
      "8\n",
      "13\n"
     ]
    }
   ],
   "source": [
    "def fibonacci_numbers() :                    #creating a function to calculate first n fibonacci numbers.\n",
    "    num3 = int(input(\"Enter how many Fibonacci numbers you wanna get :\"))     \n",
    "    a,b = 0,1\n",
    "    \n",
    "    for i in range(num3) :\n",
    "        print(a)\n",
    "        a,b = b,a+b\n",
    "fibonacci_numbers()                            #Calling the function to generate Fibonacci Numbers."
   ]
  },
  {
   "cell_type": "markdown",
   "id": "36d12707-d27f-40d1-9643-6464019930fd",
   "metadata": {},
   "source": [
    "# Intermediate Level:"
   ]
  },
  {
   "cell_type": "markdown",
   "id": "f8e65dd9-e3e4-4099-984c-6b7017189c71",
   "metadata": {},
   "source": [
    "### 11. Write a program to check if a given list contains any duplicates using a `for` loop."
   ]
  },
  {
   "cell_type": "code",
   "execution_count": 48,
   "id": "c5c8af13-c91d-484e-b56d-76b695732e2c",
   "metadata": {},
   "outputs": [
    {
     "name": "stdin",
     "output_type": "stream",
     "text": [
      "Enter the elements of the list : 1 2 3\n"
     ]
    },
    {
     "name": "stdout",
     "output_type": "stream",
     "text": [
      "List doesn't contain any duplicate element.\n"
     ]
    }
   ],
   "source": [
    "list4 = input(\"Enter the elements of the list :\").split()            #Taking list as a user input.\n",
    "\n",
    "if len(list4) == len(set(list4)) :                            #set doesn't contain any duplicate element that's why comparing lenght of set and list4\n",
    "    print(\"List doesn't contain any duplicate element.\") \n",
    "else :\n",
    "    print(\"List contains duplicate elements.\")"
   ]
  },
  {
   "cell_type": "markdown",
   "id": "6b266ab4-410b-466b-90c2-3d6868c11fae",
   "metadata": {},
   "source": [
    "### 12. Create a program that prints the prime numbers in a given range using a `for` loop."
   ]
  },
  {
   "cell_type": "code",
   "execution_count": 52,
   "id": "f4efe730-7455-430f-bc01-8af0822cf297",
   "metadata": {},
   "outputs": [
    {
     "name": "stdin",
     "output_type": "stream",
     "text": [
      "Enter the lower bound from which you wanna get prime numbers : 2\n",
      "Enter the upper bound under which you wanna get prime numbers : 10\n"
     ]
    },
    {
     "name": "stdout",
     "output_type": "stream",
     "text": [
      "2\n",
      "3\n",
      "5\n",
      "7\n"
     ]
    }
   ],
   "source": [
    "def prime_numbers() :             #creating a funtion to calculate prime numbers in user entered range.\n",
    "    l3 = int(input(\"Enter the lower bound from which you wanna get prime numbers :\"))\n",
    "    u3 = int(input(\"Enter the upper bound under which you wanna get prime numbers :\"))\n",
    "    \n",
    "    for i in range(l3,u3) :                       #this for the every number in user eneter range.\n",
    "        for j in range(2,int(i**.5+1)) :              #this is to check divisibility of the number from 2 to squareroot of the number itself\n",
    "            if i%j == 0 :                         #if number (i) is divisible by any of the number in specified range the 2nd for loop will be broken.\n",
    "                break \n",
    "        else :\n",
    "            print(i)                              #if 2nd for loop completed successfully i.e, number is prime number hence it will be printed.\n",
    "            \n",
    "prime_numbers()                                   #Calling the function"
   ]
  },
  {
   "cell_type": "markdown",
   "id": "7a84f73f-a8f8-4c71-9c2e-34b61db7fe63",
   "metadata": {},
   "source": [
    "### 13. Develop a program that counts the number of vowels in a string using a `for` loop."
   ]
  },
  {
   "cell_type": "code",
   "execution_count": 58,
   "id": "1d321fdd-eb2d-4425-be97-0dea1788e76d",
   "metadata": {},
   "outputs": [
    {
     "name": "stdin",
     "output_type": "stream",
     "text": [
      "Enter the String : how are you all\n"
     ]
    },
    {
     "name": "stdout",
     "output_type": "stream",
     "text": [
      "Total vowels in the string are : 6\n"
     ]
    }
   ],
   "source": [
    "str3 = input(\"Enter the String :\")\n",
    "str4 = \"aeiou\"\n",
    "vowel_count = 0\n",
    "\n",
    "for i in str4 :                          #to check every vowel.\n",
    "    for j in str3 :                      #to access every element of the given string.\n",
    "        if i == j.lower() :              #to match the every element of the given string with every vowel.\n",
    "            vowel_count += 1\n",
    "print(\"Total vowels in the string are :\",vowel_count)"
   ]
  },
  {
   "cell_type": "markdown",
   "id": "4362a61f-88fe-46b3-a791-176c8cc19c27",
   "metadata": {},
   "source": [
    "### 14. Write a program to find the maximum element in a 2D list using a nested `for` loop."
   ]
  },
  {
   "cell_type": "code",
   "execution_count": 65,
   "id": "0175057a-e892-452e-b7d2-2f4da0cfb8de",
   "metadata": {},
   "outputs": [
    {
     "name": "stdin",
     "output_type": "stream",
     "text": [
      "Enter the elements of the list:  -7 -4 -3 -8 -1 -10 -11\n"
     ]
    },
    {
     "name": "stdout",
     "output_type": "stream",
     "text": [
      "Maximum element in list is  -1\n"
     ]
    }
   ],
   "source": [
    "list5 = list(map(int,input(\"Enter the elements of the list:\").split())) \n",
    "max_element = min(list5)\n",
    "\n",
    "for i in range(1) :                       #to access the first element of the list.\n",
    "    if list5[i] > max_element :           #if first element is greater than minimum element of the list than this value will be assigned to max_element.\n",
    "        max_element = list5[i]\n",
    "    for j in range(i+1,len(list5)) :      #to access rest (after index 0) elements of the list.\n",
    "        if list5[i] < list5[j] > max_element  :         #to check whether current element is greater than the previous one and max_element.\n",
    "            max_element = list5[j]                      #if above condition is true than current element value will be assigned to max_element.\n",
    "print(\"Maximum element in list is \",max_element) "
   ]
  },
  {
   "cell_type": "markdown",
   "id": "35c5c798-5a55-4be6-9e71-8545f0f7383a",
   "metadata": {},
   "source": [
    "### 15. Create a program that removes all occurrences of a specific element from a list using a `for` loop."
   ]
  },
  {
   "cell_type": "code",
   "execution_count": 72,
   "id": "33a8abc2-41e4-481e-86c0-841d0a2a497a",
   "metadata": {},
   "outputs": [
    {
     "name": "stdin",
     "output_type": "stream",
     "text": [
      "Enter the elements of the list : 1 2 2 3 4 1 2\n",
      "Enter the element which you wanna remove from the list : 2\n"
     ]
    },
    {
     "name": "stdout",
     "output_type": "stream",
     "text": [
      "Updated list is ['1', '3', '4', '1']\n"
     ]
    }
   ],
   "source": [
    "list6 = input(\"Enter the elements of the list :\").split()\n",
    "element_1 = input(\"Enter the element which you wanna remove from the list :\")\n",
    "list7 = []\n",
    "\n",
    "for i in list6 :                       #accessing every element of the user eneterd list.\n",
    "    if i == element_1 :                \n",
    "        list7.append(i)                #appending element_1 in another list, list7, every time when it occurs in list6.\n",
    "        \n",
    "for i in list7 :\n",
    "    list6.remove(i)                    #removing all occurences of element_1 from original list.\n",
    "    \n",
    "print(f\"Updated list is {list6}\")"
   ]
  },
  {
   "cell_type": "markdown",
   "id": "444b0043-347e-4803-bedf-38e7ceea31f2",
   "metadata": {},
   "source": [
    "### 16. Develop a program that generates a multiplication table for numbers from 1 to 5 using a nested `for` loop."
   ]
  },
  {
   "cell_type": "code",
   "execution_count": 78,
   "id": "fe41f1be-44cf-41d7-aeea-112c4cdbc401",
   "metadata": {},
   "outputs": [
    {
     "name": "stdin",
     "output_type": "stream",
     "text": [
      "Enter the lower bound from which you wanna get Multiplication Table : 1\n",
      "Enter the upper bound till which you wanna get Multiplication Table : 5\n"
     ]
    },
    {
     "name": "stdout",
     "output_type": "stream",
     "text": [
      "Multiplication Table of 1 is :\n",
      "1 x 1 = 1\n",
      "1 x 2 = 2\n",
      "1 x 3 = 3\n",
      "1 x 4 = 4\n",
      "1 x 5 = 5\n",
      "1 x 6 = 6\n",
      "1 x 7 = 7\n",
      "1 x 8 = 8\n",
      "1 x 9 = 9\n",
      "1 x 10 = 10\n",
      "\n",
      "Multiplication Table of 2 is :\n",
      "2 x 1 = 2\n",
      "2 x 2 = 4\n",
      "2 x 3 = 6\n",
      "2 x 4 = 8\n",
      "2 x 5 = 10\n",
      "2 x 6 = 12\n",
      "2 x 7 = 14\n",
      "2 x 8 = 16\n",
      "2 x 9 = 18\n",
      "2 x 10 = 20\n",
      "\n",
      "Multiplication Table of 3 is :\n",
      "3 x 1 = 3\n",
      "3 x 2 = 6\n",
      "3 x 3 = 9\n",
      "3 x 4 = 12\n",
      "3 x 5 = 15\n",
      "3 x 6 = 18\n",
      "3 x 7 = 21\n",
      "3 x 8 = 24\n",
      "3 x 9 = 27\n",
      "3 x 10 = 30\n",
      "\n",
      "Multiplication Table of 4 is :\n",
      "4 x 1 = 4\n",
      "4 x 2 = 8\n",
      "4 x 3 = 12\n",
      "4 x 4 = 16\n",
      "4 x 5 = 20\n",
      "4 x 6 = 24\n",
      "4 x 7 = 28\n",
      "4 x 8 = 32\n",
      "4 x 9 = 36\n",
      "4 x 10 = 40\n",
      "\n",
      "Multiplication Table of 5 is :\n",
      "5 x 1 = 5\n",
      "5 x 2 = 10\n",
      "5 x 3 = 15\n",
      "5 x 4 = 20\n",
      "5 x 5 = 25\n",
      "5 x 6 = 30\n",
      "5 x 7 = 35\n",
      "5 x 8 = 40\n",
      "5 x 9 = 45\n",
      "5 x 10 = 50\n",
      "\n"
     ]
    }
   ],
   "source": [
    "def multiplication_tables_in_range() :                      \n",
    "    l5 = int(input(\"Enter the lower bound from which you wanna get Multiplication Table :\"))\n",
    "    u5 = int(input(\"Enter the upper bound till which you wanna get Multiplication Table :\"))\n",
    "    \n",
    "    for i in range(l5,u5+1) :                          #to get table from l5 to u5.\n",
    "        print(f\"Multiplication Table of {i} is :\") \n",
    "        for j in range(1,11) :                         #to print multiplication table of i from 1 ja to 10 ja.\n",
    "            print(f\"{i} x {j} = {i*j}\")\n",
    "        print(\"\")\n",
    "            \n",
    "multiplication_tables_in_range()                        #Calling the function to print Multiplication Table."
   ]
  },
  {
   "cell_type": "markdown",
   "id": "20348ac6-50d4-4466-9518-dfd345c9b45b",
   "metadata": {},
   "source": [
    "### 17. Write a program that converts a list of Fahrenheit temperatures to Celsius using a `for` loop."
   ]
  },
  {
   "cell_type": "code",
   "execution_count": 81,
   "id": "a7e416f3-b357-4971-beea-3039be1b9e1e",
   "metadata": {},
   "outputs": [
    {
     "name": "stdin",
     "output_type": "stream",
     "text": [
      "Enter the temperatures in Fahrenheit : 98.6 99.2 102 103.4\n"
     ]
    },
    {
     "name": "stdout",
     "output_type": "stream",
     "text": [
      "List of Celsius Temperatures is [37.0, 37.33, 38.89, 39.67]\n"
     ]
    }
   ],
   "source": [
    "list_fahrenheit_temp = list(map(float,input(\"Enter the temperatures in Fahrenheit :\").split()))\n",
    "list_celsius_temp = []\n",
    "\n",
    "for i in list_fahrenheit_temp :\n",
    "    c = (i - 32) * 5/9\n",
    "    list_celsius_temp.append(round(c,2))                   #appending the celsius temp in new list with two decimal values.\n",
    "\n",
    "print(f\"List of Celsius Temperatures is {list_celsius_temp}\")"
   ]
  },
  {
   "cell_type": "markdown",
   "id": "6ca8c694-1a07-4a6a-a0d8-6b4c602f7658",
   "metadata": {},
   "source": [
    "### 18. Create a program to print the common elements from two lists using a `for` loop."
   ]
  },
  {
   "cell_type": "code",
   "execution_count": 89,
   "id": "4aa5bf89-21a7-4151-9279-27b4a63bd8f3",
   "metadata": {},
   "outputs": [
    {
     "name": "stdin",
     "output_type": "stream",
     "text": [
      "Enter the elements of the 1st list : 1 2 3\n",
      "Enter the elements of the 2nd list : 3 4 5 6 1 9\n"
     ]
    },
    {
     "name": "stdout",
     "output_type": "stream",
     "text": [
      "Common elements in the both lists are : {'3', '1'}\n"
     ]
    }
   ],
   "source": [
    "list8 = input(\"Enter the elements of the 1st list :\").split()\n",
    "list9 = input(\"Enter the elements of the 2nd list :\").split()\n",
    "common_elements= []\n",
    "\n",
    "if len(list8) >= len(list9) :\n",
    "    for i in list9 :\n",
    "        if i in list8 :\n",
    "            common_elements.append(i)                    # appending the element in coomon_list if it's present in both list.\n",
    "else :\n",
    "    for i in list8 :\n",
    "        if i in list9 :\n",
    "            common_elements.append(i)\n",
    "\n",
    "print(\"Common elements in the both lists are :\",set(common_elements))"
   ]
  },
  {
   "cell_type": "markdown",
   "id": "0e8d8bf4-7a2b-4a28-b339-e552007636e3",
   "metadata": {},
   "source": [
    "### 19. Develop a program that prints the pattern of right-angled triangles using a `for` loop. Use ‘*’ to draw the\n",
    "pattern."
   ]
  },
  {
   "cell_type": "code",
   "execution_count": 92,
   "id": "ed947aab-e912-4305-9adb-6229cce0ee4f",
   "metadata": {},
   "outputs": [
    {
     "name": "stdin",
     "output_type": "stream",
     "text": [
      "Enter the number of rows in the traingle : 5\n"
     ]
    },
    {
     "name": "stdout",
     "output_type": "stream",
     "text": [
      "*\n",
      "**\n",
      "***\n",
      "****\n",
      "*****\n"
     ]
    }
   ],
   "source": [
    "rows_1 = int(input(\"Enter the number of rows in the traingle :\"))\n",
    "\n",
    "for i in range(rows_1) :                         # for rows\n",
    "    for j in range(i+1) :                        # for coloumns\n",
    "        print(\"*\",end=\"\")\n",
    "    print(\"\")                                    #to enter a new row after compeletion fo previous row"
   ]
  },
  {
   "cell_type": "markdown",
   "id": "fb33350e-67a5-4def-8ae4-78f1ca179141",
   "metadata": {},
   "source": [
    "### 20. Write a program to find the greatest common divisor (GCD) of two numbers using a `for` loop."
   ]
  },
  {
   "cell_type": "code",
   "execution_count": 99,
   "id": "80e2b649-b3fb-44ee-a244-9bea3305418d",
   "metadata": {},
   "outputs": [
    {
     "name": "stdin",
     "output_type": "stream",
     "text": [
      "Enter the lower number : 15\n",
      "Enter the higher number 20\n"
     ]
    },
    {
     "name": "stdout",
     "output_type": "stream",
     "text": [
      "GCD of 15 & 20 is 5\n"
     ]
    }
   ],
   "source": [
    "def factor_list(n) :                      #creating function to return list of factors of a given numbers.\n",
    "    list_factors_1 = []\n",
    "    \n",
    "    for i in range(1,n+1) :\n",
    "        if n%i == 0 :\n",
    "            list_factors_1.append(i)\n",
    "    return list_factors_1\n",
    "\n",
    "num5 = int(input(\"Enter the lower number :\"))\n",
    "num6 = int(input(\"Enter the higher number\"))\n",
    "\n",
    "num5_factors = factor_list(num5)\n",
    "num5_factors.sort()                                  #soritng the list in ascending order\n",
    "num6_factors = factor_list(num6)\n",
    "\n",
    "for i in num5_factors :                              #accessing element on by one  \n",
    "    if i in num6_factors :                           #comapring the factors of lower number with factor of higher number.\n",
    "        gcd = i                                      # higher common factor is gcd\n",
    "\n",
    "print(f\"GCD of {num5} & {num6} is {gcd}\")"
   ]
  },
  {
   "cell_type": "markdown",
   "id": "be242f91-ab71-4644-b988-9259dc1bdaf9",
   "metadata": {},
   "source": [
    "# Advanced Level:"
   ]
  },
  {
   "cell_type": "markdown",
   "id": "3c0eb871-0256-4cb0-a241-1544ad0c1b07",
   "metadata": {},
   "source": [
    "### 21. Create a program that calculates the sum of the digits of numbers in a list using a list comprehension."
   ]
  },
  {
   "cell_type": "code",
   "execution_count": 3,
   "id": "d88ad414-410c-4424-be77-634dcb52f0d2",
   "metadata": {},
   "outputs": [
    {
     "name": "stdin",
     "output_type": "stream",
     "text": [
      "Enter the numbers for the list 0 12 19 4236\n"
     ]
    },
    {
     "name": "stdout",
     "output_type": "stream",
     "text": [
      "List of sum of digits of numbers in user entered list is: [0, 3, 10, 15]\n"
     ]
    }
   ],
   "source": [
    "from functools import reduce\n",
    "\n",
    "list10 = input(\"Enter the numbers for the list\").split()\n",
    "\n",
    "sum_list10 = [reduce(lambda a,b : a+b, [int(j) for j in i]) for i in list10]\n",
    "\n",
    "print(\"List of sum of digits of numbers in user entered list is:\",sum_list10)"
   ]
  },
  {
   "cell_type": "markdown",
   "id": "a0acb428-550b-482d-9ed0-a291573e2132",
   "metadata": {},
   "source": [
    "### 22. Write a program to find the prime factors of a given number using a `for` loop and list comprehension."
   ]
  },
  {
   "cell_type": "code",
   "execution_count": 121,
   "id": "262b6783-b33f-4705-a866-271cc699b76b",
   "metadata": {},
   "outputs": [
    {
     "name": "stdin",
     "output_type": "stream",
     "text": [
      "Enter the number for which you wanna get prime factors : 201\n"
     ]
    },
    {
     "name": "stdout",
     "output_type": "stream",
     "text": [
      "List of prime factors of 201 is [3, 67]\n"
     ]
    }
   ],
   "source": [
    "num7 = int(input(\"Enter the number for which you wanna get prime factors :\"))\n",
    "\n",
    "factors_num7 = [i for i in range(2,num7+1) if num7%i == 0]                   #creating a list of factors of given number\n",
    "prime_factors_num7 = []\n",
    "\n",
    "for i in factors_num7 :\n",
    "    for j in range(2,int(i**0.5+1)) :                                        # to check whether a factor a of given is prime or not\n",
    "        if i%j == 0 :\n",
    "            break\n",
    "    else :\n",
    "        prime_factors_num7.append(i)\n",
    "        \n",
    "print(f\"List of prime factors of {num7} is {prime_factors_num7}\")"
   ]
  },
  {
   "cell_type": "markdown",
   "id": "fee1bcef-6df7-494d-b9a2-39bb6e04262a",
   "metadata": {},
   "source": [
    "### 23. Develop a program that extracts unique elements from a list and stores them in a new list using a list\n",
    "comprehension."
   ]
  },
  {
   "cell_type": "code",
   "execution_count": 126,
   "id": "d5848ffd-12a1-45f0-a406-e2af07015f06",
   "metadata": {},
   "outputs": [
    {
     "name": "stdin",
     "output_type": "stream",
     "text": [
      "Enter the elements of the list : 1 2 3 4 5 1 2 3 0 4\n"
     ]
    },
    {
     "name": "stdout",
     "output_type": "stream",
     "text": [
      "Unoque elements in the list are : ['5', '0']\n"
     ]
    }
   ],
   "source": [
    "list11 = input(\"Enter the elements of the list :\").split()\n",
    "\n",
    "list12 = [i for i in list11 if list11.count(i)<2]\n",
    "\n",
    "print(f\"Unoque elements in the list are : {list12}\")"
   ]
  },
  {
   "cell_type": "markdown",
   "id": "e20c9028-a0e5-449a-b47d-0ea1b652f26d",
   "metadata": {},
   "source": [
    "### 24. Create a program that generates a list of all palindromic numbers up to a specified limit using a list\n",
    "comprehension."
   ]
  },
  {
   "cell_type": "code",
   "execution_count": 131,
   "id": "3b5a3388-9c0a-4382-b75e-17333765ecdf",
   "metadata": {},
   "outputs": [
    {
     "name": "stdin",
     "output_type": "stream",
     "text": [
      "Enter the lower bound fromwhich you wanna print palindromic numbers : 5\n",
      "Enter the upper bound under which you wanna print palindromic numbers : 102\n"
     ]
    },
    {
     "name": "stdout",
     "output_type": "stream",
     "text": [
      "List of all palindromic numbers in range(5, 102) is [5, 6, 7, 8, 9, 11, 22, 33, 44, 55, 66, 77, 88, 99, 101]\n"
     ]
    }
   ],
   "source": [
    "l6 = int(input(\"Enter the lower bound fromwhich you wanna print palindromic numbers :\"))\n",
    "u6 = int(input(\"Enter the upper bound under which you wanna print palindromic numbers :\"))\n",
    "\n",
    "palindromic_list1 = [i for i in range(l6,u6) if str(i)==str(i)[::-1]]\n",
    "\n",
    "print(f\"List of all palindromic numbers in range{l6,u6} is {palindromic_list1}\")"
   ]
  },
  {
   "cell_type": "markdown",
   "id": "0c6f3b2c-6aed-4109-a42a-7d5aef090dc3",
   "metadata": {},
   "source": [
    "### 25. Write a program to flatten a nested list using list comprehension."
   ]
  },
  {
   "cell_type": "code",
   "execution_count": 2,
   "id": "234a2ff1-26fd-4b42-9a52-8cf47f740ecc",
   "metadata": {},
   "outputs": [
    {
     "name": "stdout",
     "output_type": "stream",
     "text": [
      "Flatten List is [1, 2, 3, 4, 5, 6, 7, 8]\n"
     ]
    }
   ],
   "source": [
    "list13 = [1,2,[3,4],5,6,[7,8]]\n",
    "\n",
    "flatten_list1 = [j for i in list13 for j in ([i] if type(i) != list else i)]\n",
    "print(f\"Flatten List is {flatten_list1}\")"
   ]
  },
  {
   "cell_type": "markdown",
   "id": "18050013-29f8-4e9a-9618-5d172021826c",
   "metadata": {},
   "source": [
    "### 26. Develop a program that computes the sum of even and odd numbers in a list separately using list\n",
    "comprehension."
   ]
  },
  {
   "cell_type": "code",
   "execution_count": 7,
   "id": "4ea01730-8fd9-4880-9377-a16fb7ac7ae5",
   "metadata": {},
   "outputs": [
    {
     "name": "stdout",
     "output_type": "stream",
     "text": [
      "Sum of even numbers is [20]\n",
      "Sum of odd numbers is [16]\n"
     ]
    }
   ],
   "source": [
    "list14 = [1,2,3,4,5,6,7,8]\n",
    "\n",
    "even_sum = [reduce(lambda a,b : a+b, [i for i in list14 if i%2==0])]\n",
    "odd_sum = [reduce(lambda a,b : a+b, [i for i in list14 if i%2 !=0])]\n",
    "\n",
    "print(f\"Sum of even numbers is {even_sum}\")\n",
    "print(f\"Sum of odd numbers is {odd_sum}\")"
   ]
  },
  {
   "cell_type": "markdown",
   "id": "511ceab1-8f34-43fb-a765-b96404f27f56",
   "metadata": {},
   "source": [
    "### 27. Create a program that generates a list of squares of odd numbers between 1 and 10 using list\n",
    "comprehension."
   ]
  },
  {
   "cell_type": "code",
   "execution_count": 8,
   "id": "3f1be1c8-10aa-44ba-be98-c4b2535e2acc",
   "metadata": {},
   "outputs": [
    {
     "name": "stdout",
     "output_type": "stream",
     "text": [
      "List of squares of odd numbers between (1,10) is [1, 9, 25, 49, 81]\n"
     ]
    }
   ],
   "source": [
    "square_list2 = [i*i for i in range(1,10) if i%2 != 0]\n",
    "print(f\"List of squares of odd numbers between (1,10) is {square_list2}\")"
   ]
  },
  {
   "cell_type": "markdown",
   "id": "5bcd2c8a-aa42-43eb-b38a-3653f01ae9c6",
   "metadata": {},
   "source": [
    "### 28. Write a program that combines two lists into a dictionary using list comprehension."
   ]
  },
  {
   "cell_type": "code",
   "execution_count": 71,
   "id": "2ea5a7dd-60c0-4d10-bec2-55c1643ec66f",
   "metadata": {},
   "outputs": [
    {
     "name": "stdout",
     "output_type": "stream",
     "text": [
      "Dictionary of combined list is {'Name': 'Lalit Khare', 'Age': '19', 'Location': 'Noida'}\n"
     ]
    }
   ],
   "source": [
    "list15 = [\"Name\",\"Age\",\"Location\"]\n",
    "list16 = [\"Lalit Khare\",\"19\",\"Noida\"]\n",
    "                                                               \n",
    "list17 = [(i,j) for i,j in zip(list15,list16)]                 #creating a list of tuples of elements from 1st & 2nd list\n",
    "\n",
    "dict1 = dict(list17)                                           #converting list into dictionary\n",
    "\n",
    "print(f\"Dictionary of combined list is {dict1}\")"
   ]
  },
  {
   "cell_type": "markdown",
   "id": "8cec5021-0556-440f-b545-4ab244bd8ed7",
   "metadata": {},
   "source": [
    "### 29. Develop a program that extracts the vowels from a string and stores them in a list using list comprehension."
   ]
  },
  {
   "cell_type": "code",
   "execution_count": 4,
   "id": "1482df83-74ab-48b6-9ef7-4ff86d3d5e59",
   "metadata": {},
   "outputs": [
    {
     "name": "stdin",
     "output_type": "stream",
     "text": [
      "Enter the String  hello bro , how are you\n"
     ]
    },
    {
     "name": "stdout",
     "output_type": "stream",
     "text": [
      "List of vowels in string is : ['e', 'o', 'o', 'o', 'a', 'e', 'o', 'u']\n"
     ]
    }
   ],
   "source": [
    "str5 = input(\"Enter the String \")\n",
    "vowel_str = \"aeiou\"\n",
    "\n",
    "list_str5 = [i for i in str5 if i.lower() in vowel_str]\n",
    "\n",
    "print(\"List of vowels in string is :\",list_str5)"
   ]
  },
  {
   "cell_type": "markdown",
   "id": "bd89bb7c-3c42-4e92-8af3-03f239794372",
   "metadata": {},
   "source": [
    "### 30. Create a program that removes all non-numeric characters from a list of strings using list comprehension."
   ]
  },
  {
   "cell_type": "code",
   "execution_count": 5,
   "id": "91a38f92-29a8-4cb0-9ccb-cb2f42391f8b",
   "metadata": {},
   "outputs": [
    {
     "name": "stdin",
     "output_type": "stream",
     "text": [
      "Enter the elements of the list : hello 17 by 90 is it funny 9\n"
     ]
    },
    {
     "name": "stdout",
     "output_type": "stream",
     "text": [
      "Updated List is : ['17', '90', '9']\n"
     ]
    }
   ],
   "source": [
    "list18 = input(\"Enter the elements of the list :\").split()\n",
    "list18 = [i for i in list18 if i.isnumeric()]\n",
    "\n",
    "print(\"Updated List is :\",list18)"
   ]
  },
  {
   "cell_type": "markdown",
   "id": "542f2515-c252-4432-bd2c-d33f705a23ae",
   "metadata": {},
   "source": [
    "# Challenge Level:"
   ]
  },
  {
   "cell_type": "markdown",
   "id": "7a24663d-1b07-4c84-9131-de2c817e1222",
   "metadata": {},
   "source": [
    "### 31. Write a program to generate a list of prime numbers using the Sieve of Eratosthenes algorithm and list\n",
    "comprehension."
   ]
  },
  {
   "cell_type": "code",
   "execution_count": 25,
   "id": "f4c830d4-d56f-488a-9e4b-7d7db2762316",
   "metadata": {},
   "outputs": [
    {
     "name": "stdin",
     "output_type": "stream",
     "text": [
      "Enter the lower limit : 10\n",
      "Enter the upper limit : 20\n"
     ]
    },
    {
     "name": "stdout",
     "output_type": "stream",
     "text": [
      "Prime numbers in range (10, 20) are [11, 13, 17, 19]\n"
     ]
    }
   ],
   "source": [
    "l7 = int(input(\"Enter the lower limit :\"))\n",
    "u7 = int(input(\"Enter the upper limit :\"))\n",
    "\n",
    "list19 = [True for i in range(u7+1)]\n",
    "list20 = [i for i in range(l7,u7+1)]\n",
    "\n",
    "for i in range(2,u7+1) :                   #to access the element of list19 from index 2 to maximum index value.\n",
    "    if list19[i] == True :                 #checking if the element is already decided as a composite number \n",
    "        for j in range(i*i,u7+1,i) :\n",
    "            list19[j] = False             # making the value false (ie element as composite) for every index value which is divisible by i.\n",
    "            \n",
    "prime_list1 = [i for i in range(2,u7+1) if list19[i] == True]          #creating a list of prime numbers from 2 to user's given maximum limit.\n",
    "prime_list2 = [i for i in prime_list1 if i in list20]                              #creating thee list of prime numbers in user's provided minimum to maximum limit.\n",
    "\n",
    "print(f\"Prime numbers in range {l7,u7} are {prime_list2}\")"
   ]
  },
  {
   "cell_type": "markdown",
   "id": "e5f6c59e-e265-4240-a6b2-a40d4ad63318",
   "metadata": {},
   "source": [
    "### 32. Create a program that generates a list of all Pythagorean triplets up to a specified limit using list\n",
    "comprehension."
   ]
  },
  {
   "cell_type": "code",
   "execution_count": 35,
   "id": "5108bc6b-b551-4a7d-88c1-dc3868360c3a",
   "metadata": {},
   "outputs": [
    {
     "name": "stdin",
     "output_type": "stream",
     "text": [
      "Enter the lower limit : 1\n",
      "Enter the upper limit : 11\n"
     ]
    },
    {
     "name": "stdout",
     "output_type": "stream",
     "text": [
      "List of all Pythogorean Triplets in range (1, 11) is [(3, 4, 5), (6, 8, 10)]\n"
     ]
    }
   ],
   "source": [
    "l8 = int(input(\"Enter the lower limit :\"))\n",
    "u8 = int(input(\"Enter the upper limit :\"))\n",
    "\n",
    "pythogorean_triplets_list = [(i,j,k) for i in range(l8,u8) for j in range(i+1,u8) for k in range(j+1,u8) if i*i + j*j == k*k]\n",
    "\n",
    "print(f\"List of all Pythogorean Triplets in range {l8,u8} is {pythogorean_triplets_list}\")"
   ]
  },
  {
   "cell_type": "markdown",
   "id": "3e332709-0070-4a38-b3b5-f7a922ba0cff",
   "metadata": {},
   "source": [
    "### 33. Develop a program that generates a list of all possible combinations of two lists using list comprehension."
   ]
  },
  {
   "cell_type": "code",
   "execution_count": 38,
   "id": "5dec94bf-8afe-47a4-88ad-80ff4f24070c",
   "metadata": {},
   "outputs": [
    {
     "name": "stdout",
     "output_type": "stream",
     "text": [
      "list of all possible combinations is  [(1, 6), (1, 7), (1, 8), (1, 9), (2, 6), (2, 7), (2, 8), (2, 9), (3, 6), (3, 7), (3, 8), (3, 9), (4, 6), (4, 7), (4, 8), (4, 9), (5, 6), (5, 7), (5, 8), (5, 9)]\n"
     ]
    }
   ],
   "source": [
    "list21 = [1,2,3,4,5]\n",
    "list22 = [6,7,8,9]\n",
    "\n",
    "combination_list = [(i,j) for i in list21 for j in list22]\n",
    "\n",
    "print(\"list of all possible combinations is \", combination_list)"
   ]
  },
  {
   "cell_type": "markdown",
   "id": "a1978f93-dfa6-4f78-b2af-08f8bbb18e29",
   "metadata": {},
   "source": [
    "### 34. Write a program that calculates the mean, median, and mode of a list of numbers using list\n",
    "comprehension."
   ]
  },
  {
   "cell_type": "code",
   "execution_count": 66,
   "id": "b1abbf5b-4df3-4b27-b162-da188021caa6",
   "metadata": {},
   "outputs": [
    {
     "name": "stdin",
     "output_type": "stream",
     "text": [
      "Enter the elements of the list 1 2 2 3\n"
     ]
    },
    {
     "name": "stdout",
     "output_type": "stream",
     "text": [
      "['Mean =2.0', 'Median =2.5', 'Mode =2.0']\n"
     ]
    }
   ],
   "source": [
    "from functools import reduce\n",
    "list23 = list(map(float,input(\"Enter the elements of the list\").split()))\n",
    "\n",
    "len_list23 = len(list23)\n",
    "\n",
    "data_list23 = [\"Mean =\" + str((reduce(lambda a,b : a+b,list23))/len_list23),\"Median =\" +str(list23[int(len_list23/2)] if len_list23%2 != 0 else (list23[int(len_list23/2)] + list23[int(len_list23/2) +1])/2), \"Mode =\"+str(max(set(list23),key = list23.count))]\n",
    "\n",
    "print(data_list23)"
   ]
  },
  {
   "cell_type": "markdown",
   "id": "8b4a30b7-0b16-4e63-8bee-2e710e6c0af0",
   "metadata": {},
   "source": [
    "### 35. Create a program that generates Pascal's triangle up to a specified number of rows using list\n",
    "comprehension."
   ]
  },
  {
   "cell_type": "code",
   "execution_count": 80,
   "id": "f38e13d5-cf11-4b9d-ab1f-5dda9331ab63",
   "metadata": {},
   "outputs": [
    {
     "name": "stdin",
     "output_type": "stream",
     "text": [
      "Enter the number of rows : 5\n"
     ]
    },
    {
     "name": "stdout",
     "output_type": "stream",
     "text": [
      "    1 \n",
      "   1 1 \n",
      "  1 2 1 \n",
      " 1 3 3 1 \n",
      "1 4 6 4 1 \n"
     ]
    }
   ],
   "source": [
    "rows = int(input(\"Enter the number of rows :\"))\n",
    "\n",
    "pascal_list = []                                                  #empty list to store list of elemnts of every row of pascal's triangle\n",
    "                                 \n",
    "for i in range(rows) :                                            #calling the for loop to create sublists of user enetered number\n",
    "    temp_list = []\n",
    "    for k in range(i+1) :               \n",
    "        if k == 0 or k == i :                                     #this is because first and last element of every row is fixed that is 1.\n",
    "            temp_list.append(1)\n",
    "        else :                                                    \n",
    "            temp_list.append(pascal_list[i-1][k-1] + pascal_list[i-1][k])    #every element is the sum of same index value element and\n",
    "                                                                             # pervious index value element of the pervious row\n",
    "    pascal_list.append(temp_list)\n",
    "len_pascal_list = len(pascal_list)\n",
    "\n",
    "for i in pascal_list :                                                       # to print the row of pascal triangle or to access every sublist in the main list.\n",
    "    j = 1\n",
    "    while j <len_pascal_list :                                               # to print desired empty spaces before the 1st element of the row to create perfect triangle.\n",
    "        print(\" \", end = \"\")\n",
    "        j += 1\n",
    "    for k in i :\n",
    "        print(k, end = \" \")\n",
    "    print()                                                                  # to enter to the new line after printing a row successfully\n",
    "    len_pascal_list -= 1"
   ]
  },
  {
   "cell_type": "markdown",
   "id": "6489a35e-1f7f-4a37-82e4-193a26b79a41",
   "metadata": {
    "tags": []
   },
   "source": [
    "### 36. Develop a program that calculates the sum of the digits of a factorial of numbers from 1 to 5 using list\n",
    "comprehension."
   ]
  },
  {
   "cell_type": "code",
   "execution_count": 10,
   "id": "f0b4faab-89d9-4b3a-b9da-c818f20b0273",
   "metadata": {},
   "outputs": [
    {
     "name": "stdout",
     "output_type": "stream",
     "text": [
      "List of sum of digits of factorial numbers in range (1,5) [1, 2, 6, 6, 3]\n"
     ]
    }
   ],
   "source": [
    "from functools import reduce\n",
    "\n",
    "factorial_list = [reduce(lambda a,b : a*b ,[j for j in range(1,i+1)]) for i in range(1,6)]          #list of factorial numbers.\n",
    "\n",
    "factorial_digit_sum = [reduce(lambda a,b : a+b, [int(j) for j in str(i)]) for i in factorial_list]   #list of sum of digits of the factorial numbers.\n",
    "\n",
    "print(\"List of sum of digits of factorial numbers in range (1,5)\",factorial_digit_sum)"
   ]
  },
  {
   "cell_type": "markdown",
   "id": "f8ddd603-4f39-4dc2-84e3-18f33efc26de",
   "metadata": {},
   "source": [
    "### 37. Write a program that finds the longest word in a sentence using list comprehension."
   ]
  },
  {
   "cell_type": "code",
   "execution_count": 13,
   "id": "0551c4ca-fc5b-4f72-9bb6-81bbe9fe7508",
   "metadata": {},
   "outputs": [
    {
     "name": "stdin",
     "output_type": "stream",
     "text": [
      "Enter your sentence : hey bro from where are you\n"
     ]
    },
    {
     "name": "stdout",
     "output_type": "stream",
     "text": [
      "Longest Word in sentence is : where\n"
     ]
    }
   ],
   "source": [
    "sentence = input(\"Enter your sentence :\")\n",
    "\n",
    "list_of_sentence = sentence.split()                                                 #to create list of words of sentence.\n",
    "\n",
    "longest_word = reduce(lambda a,b : a if len(a) > len(b) else b,list_of_sentence)    #to find the longest word.\n",
    "\n",
    "print(\"Longest Word in sentence is :\",longest_word)"
   ]
  },
  {
   "cell_type": "markdown",
   "id": "db9a03b9-4db2-4ca6-a54a-72a728f91524",
   "metadata": {},
   "source": [
    "### 38. Create a program that filters a list of strings to include only those with more than three vowels using list\n",
    "comprehension."
   ]
  },
  {
   "cell_type": "code",
   "execution_count": 15,
   "id": "c35528f3-2364-4851-99f6-c22f0fe03ad3",
   "metadata": {},
   "outputs": [
    {
     "name": "stdout",
     "output_type": "stream",
     "text": [
      "List of strings having more than three vowels is : ['experience', 'beautiful']\n"
     ]
    }
   ],
   "source": [
    "list_of_string = [\"hello\",\"experience\",\"wealth\",\"love\",\"family\",\"lyricsist\",\"beautiful\"]\n",
    "\n",
    "list_str = [i for i in list_of_string if i.count(\"a\") + i.count(\"e\") + i.count(\"i\") + i.count(\"o\") + i.count(\"u\") >3]\n",
    "\n",
    "print(\"List of strings having more than three vowels is :\",list_str)"
   ]
  },
  {
   "cell_type": "markdown",
   "id": "d17e04e3-7860-4a8c-977b-cdcb6d136ed0",
   "metadata": {},
   "source": [
    "### 39. Develop a program that calculates the sum of the digits of numbers from 1 to 1000 using list\n",
    "comprehension."
   ]
  },
  {
   "cell_type": "code",
   "execution_count": 25,
   "id": "88a478ef-b2b3-4359-a3e0-f968e542f0cd",
   "metadata": {},
   "outputs": [
    {
     "name": "stdout",
     "output_type": "stream",
     "text": [
      "Sum of digits of numbers between (1, 1000) is [1, 2, 3, 4, 5, 6, 7, 8, 9, 1, 2, 3, 4, 5, 6, 7, 8, 9, 10, 2, 3, 4, 5, 6, 7, 8, 9, 10, 11, 3, 4, 5, 6, 7, 8, 9, 10, 11, 12, 4, 5, 6, 7, 8, 9, 10, 11, 12, 13, 5, 6, 7, 8, 9, 10, 11, 12, 13, 14, 6, 7, 8, 9, 10, 11, 12, 13, 14, 15, 7, 8, 9, 10, 11, 12, 13, 14, 15, 16, 8, 9, 10, 11, 12, 13, 14, 15, 16, 17, 9, 10, 11, 12, 13, 14, 15, 16, 17, 18, 1, 2, 3, 4, 5, 6, 7, 8, 9, 10, 2, 3, 4, 5, 6, 7, 8, 9, 10, 11, 3, 4, 5, 6, 7, 8, 9, 10, 11, 12, 4, 5, 6, 7, 8, 9, 10, 11, 12, 13, 5, 6, 7, 8, 9, 10, 11, 12, 13, 14, 6, 7, 8, 9, 10, 11, 12, 13, 14, 15, 7, 8, 9, 10, 11, 12, 13, 14, 15, 16, 8, 9, 10, 11, 12, 13, 14, 15, 16, 17, 9, 10, 11, 12, 13, 14, 15, 16, 17, 18, 10, 11, 12, 13, 14, 15, 16, 17, 18, 19, 2, 3, 4, 5, 6, 7, 8, 9, 10, 11, 3, 4, 5, 6, 7, 8, 9, 10, 11, 12, 4, 5, 6, 7, 8, 9, 10, 11, 12, 13, 5, 6, 7, 8, 9, 10, 11, 12, 13, 14, 6, 7, 8, 9, 10, 11, 12, 13, 14, 15, 7, 8, 9, 10, 11, 12, 13, 14, 15, 16, 8, 9, 10, 11, 12, 13, 14, 15, 16, 17, 9, 10, 11, 12, 13, 14, 15, 16, 17, 18, 10, 11, 12, 13, 14, 15, 16, 17, 18, 19, 11, 12, 13, 14, 15, 16, 17, 18, 19, 20, 3, 4, 5, 6, 7, 8, 9, 10, 11, 12, 4, 5, 6, 7, 8, 9, 10, 11, 12, 13, 5, 6, 7, 8, 9, 10, 11, 12, 13, 14, 6, 7, 8, 9, 10, 11, 12, 13, 14, 15, 7, 8, 9, 10, 11, 12, 13, 14, 15, 16, 8, 9, 10, 11, 12, 13, 14, 15, 16, 17, 9, 10, 11, 12, 13, 14, 15, 16, 17, 18, 10, 11, 12, 13, 14, 15, 16, 17, 18, 19, 11, 12, 13, 14, 15, 16, 17, 18, 19, 20, 12, 13, 14, 15, 16, 17, 18, 19, 20, 21, 4, 5, 6, 7, 8, 9, 10, 11, 12, 13, 5, 6, 7, 8, 9, 10, 11, 12, 13, 14, 6, 7, 8, 9, 10, 11, 12, 13, 14, 15, 7, 8, 9, 10, 11, 12, 13, 14, 15, 16, 8, 9, 10, 11, 12, 13, 14, 15, 16, 17, 9, 10, 11, 12, 13, 14, 15, 16, 17, 18, 10, 11, 12, 13, 14, 15, 16, 17, 18, 19, 11, 12, 13, 14, 15, 16, 17, 18, 19, 20, 12, 13, 14, 15, 16, 17, 18, 19, 20, 21, 13, 14, 15, 16, 17, 18, 19, 20, 21, 22, 5, 6, 7, 8, 9, 10, 11, 12, 13, 14, 6, 7, 8, 9, 10, 11, 12, 13, 14, 15, 7, 8, 9, 10, 11, 12, 13, 14, 15, 16, 8, 9, 10, 11, 12, 13, 14, 15, 16, 17, 9, 10, 11, 12, 13, 14, 15, 16, 17, 18, 10, 11, 12, 13, 14, 15, 16, 17, 18, 19, 11, 12, 13, 14, 15, 16, 17, 18, 19, 20, 12, 13, 14, 15, 16, 17, 18, 19, 20, 21, 13, 14, 15, 16, 17, 18, 19, 20, 21, 22, 14, 15, 16, 17, 18, 19, 20, 21, 22, 23, 6, 7, 8, 9, 10, 11, 12, 13, 14, 15, 7, 8, 9, 10, 11, 12, 13, 14, 15, 16, 8, 9, 10, 11, 12, 13, 14, 15, 16, 17, 9, 10, 11, 12, 13, 14, 15, 16, 17, 18, 10, 11, 12, 13, 14, 15, 16, 17, 18, 19, 11, 12, 13, 14, 15, 16, 17, 18, 19, 20, 12, 13, 14, 15, 16, 17, 18, 19, 20, 21, 13, 14, 15, 16, 17, 18, 19, 20, 21, 22, 14, 15, 16, 17, 18, 19, 20, 21, 22, 23, 15, 16, 17, 18, 19, 20, 21, 22, 23, 24, 7, 8, 9, 10, 11, 12, 13, 14, 15, 16, 8, 9, 10, 11, 12, 13, 14, 15, 16, 17, 9, 10, 11, 12, 13, 14, 15, 16, 17, 18, 10, 11, 12, 13, 14, 15, 16, 17, 18, 19, 11, 12, 13, 14, 15, 16, 17, 18, 19, 20, 12, 13, 14, 15, 16, 17, 18, 19, 20, 21, 13, 14, 15, 16, 17, 18, 19, 20, 21, 22, 14, 15, 16, 17, 18, 19, 20, 21, 22, 23, 15, 16, 17, 18, 19, 20, 21, 22, 23, 24, 16, 17, 18, 19, 20, 21, 22, 23, 24, 25, 8, 9, 10, 11, 12, 13, 14, 15, 16, 17, 9, 10, 11, 12, 13, 14, 15, 16, 17, 18, 10, 11, 12, 13, 14, 15, 16, 17, 18, 19, 11, 12, 13, 14, 15, 16, 17, 18, 19, 20, 12, 13, 14, 15, 16, 17, 18, 19, 20, 21, 13, 14, 15, 16, 17, 18, 19, 20, 21, 22, 14, 15, 16, 17, 18, 19, 20, 21, 22, 23, 15, 16, 17, 18, 19, 20, 21, 22, 23, 24, 16, 17, 18, 19, 20, 21, 22, 23, 24, 25, 17, 18, 19, 20, 21, 22, 23, 24, 25, 26, 9, 10, 11, 12, 13, 14, 15, 16, 17, 18, 10, 11, 12, 13, 14, 15, 16, 17, 18, 19, 11, 12, 13, 14, 15, 16, 17, 18, 19, 20, 12, 13, 14, 15, 16, 17, 18, 19, 20, 21, 13, 14, 15, 16, 17, 18, 19, 20, 21, 22, 14, 15, 16, 17, 18, 19, 20, 21, 22, 23, 15, 16, 17, 18, 19, 20, 21, 22, 23, 24, 16, 17, 18, 19, 20, 21, 22, 23, 24, 25, 17, 18, 19, 20, 21, 22, 23, 24, 25, 26, 18, 19, 20, 21, 22, 23, 24, 25, 26, 27]\n"
     ]
    }
   ],
   "source": [
    "list_sum_digit = [reduce(lambda a,b : a+b, [int(j) for j in str(i)]) for i in range(1,1000)]\n",
    "\n",
    "print(f\"Sum of digits of numbers between {1,1000} is {list_sum_digit}\")"
   ]
  },
  {
   "cell_type": "markdown",
   "id": "5eba6560-d499-4143-ad69-1e9d2785d347",
   "metadata": {},
   "source": [
    "### 40. Write a program that generates a list of prime palindromic numbers using list comprehension."
   ]
  },
  {
   "cell_type": "code",
   "execution_count": 34,
   "id": "9d3a12ea-bf65-40dc-a3f4-858abd14d129",
   "metadata": {},
   "outputs": [
    {
     "name": "stdin",
     "output_type": "stream",
     "text": [
      "Enter the lower limit : 2\n",
      "Enter the upper limit : 20\n"
     ]
    },
    {
     "name": "stdout",
     "output_type": "stream",
     "text": [
      "List of prime palindromic numbers between (2, 20) is [2, 3, 5, 7, 11]\n"
     ]
    }
   ],
   "source": [
    "l9 = int(input(\"Enter the lower limit :\"))\n",
    "u9 = int(input(\"Enter the upper limit :\"))\n",
    "\n",
    "list24 = [True for i in range(u9)]                 \n",
    "list25 = [i for i in range(l9,u9)]\n",
    "\n",
    "for i in range(2,u9) :                             #to access all the elements of list24             \n",
    "    if list24[i] == True :                         # to check whether an element is already decided as composite or not.\n",
    "        for j in range(i*i,u9,i) :                  \n",
    "            list24[j] = False                      # making the element false(or deciding that index of this element is composite)\n",
    "            \n",
    "prime_list1 = [i for i in range(2,u9) if list24[i] == True]           #creating a list of prime numbers from 2 to max user input.\n",
    "\n",
    "prime_list2 = [i for i in prime_list1 if i in list25]                 #creating a list of prime numbers wi\n",
    "\n",
    "prime_palindrome = [i for i in prime_list2 if str(i) == str(i)[::-1]]\n",
    "\n",
    "print(f\"List of prime palindromic numbers between {l9,u9} is {prime_palindrome}\")"
   ]
  },
  {
   "cell_type": "code",
   "execution_count": null,
   "id": "14a2818b-e3d3-47dd-a568-087e80dc43ea",
   "metadata": {},
   "outputs": [],
   "source": []
  }
 ],
 "metadata": {
  "kernelspec": {
   "display_name": "Python 3 (ipykernel)",
   "language": "python",
   "name": "python3"
  },
  "language_info": {
   "codemirror_mode": {
    "name": "ipython",
    "version": 3
   },
   "file_extension": ".py",
   "mimetype": "text/x-python",
   "name": "python",
   "nbconvert_exporter": "python",
   "pygments_lexer": "ipython3",
   "version": "3.10.8"
  }
 },
 "nbformat": 4,
 "nbformat_minor": 5
}
